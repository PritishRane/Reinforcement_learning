{
  "cells": [
    {
      "cell_type": "markdown",
      "metadata": {
        "id": "view-in-github",
        "colab_type": "text"
      },
      "source": [
        "<a href=\"https://colab.research.google.com/github/PritishRane/Reinforcement_learning/blob/main/Deep_Q_Learning_for_Lunar_Landing_1.ipynb\" target=\"_parent\"><img src=\"https://colab.research.google.com/assets/colab-badge.svg\" alt=\"Open In Colab\"/></a>"
      ]
    },
    {
      "cell_type": "markdown",
      "metadata": {
        "id": "LbZcI9ZXHl3a"
      },
      "source": [
        "# Deep Q-Learning for Lunar Landing"
      ]
    },
    {
      "cell_type": "markdown",
      "metadata": {
        "id": "E8yPRjteXgPb"
      },
      "source": [
        "## Part 0 - Installing the required packages and importing the libraries"
      ]
    },
    {
      "cell_type": "markdown",
      "metadata": {
        "id": "slEm5teGWjWU"
      },
      "source": [
        "### Installing Gymnasium"
      ]
    },
    {
      "cell_type": "code",
      "execution_count": 1,
      "metadata": {
        "id": "dbnq3XpoKa_7",
        "colab": {
          "base_uri": "https://localhost:8080/"
        },
        "outputId": "4b9805bf-7c9f-4cdc-d847-246d5025893a"
      },
      "outputs": [
        {
          "output_type": "stream",
          "name": "stdout",
          "text": [
            "Collecting gymnasium\n",
            "  Downloading gymnasium-0.29.1-py3-none-any.whl.metadata (10 kB)\n",
            "Requirement already satisfied: numpy>=1.21.0 in /usr/local/lib/python3.10/dist-packages (from gymnasium) (1.25.2)\n",
            "Requirement already satisfied: cloudpickle>=1.2.0 in /usr/local/lib/python3.10/dist-packages (from gymnasium) (2.2.1)\n",
            "Requirement already satisfied: typing-extensions>=4.3.0 in /usr/local/lib/python3.10/dist-packages (from gymnasium) (4.12.2)\n",
            "Collecting farama-notifications>=0.0.1 (from gymnasium)\n",
            "  Downloading Farama_Notifications-0.0.4-py3-none-any.whl.metadata (558 bytes)\n",
            "Downloading gymnasium-0.29.1-py3-none-any.whl (953 kB)\n",
            "\u001b[2K   \u001b[90m━━━━━━━━━━━━━━━━━━━━━━━━━━━━━━━━━━━━━━━━\u001b[0m \u001b[32m953.9/953.9 kB\u001b[0m \u001b[31m10.1 MB/s\u001b[0m eta \u001b[36m0:00:00\u001b[0m\n",
            "\u001b[?25hDownloading Farama_Notifications-0.0.4-py3-none-any.whl (2.5 kB)\n",
            "Installing collected packages: farama-notifications, gymnasium\n",
            "Successfully installed farama-notifications-0.0.4 gymnasium-0.29.1\n",
            "Requirement already satisfied: gymnasium[accept-rom-license,atari] in /usr/local/lib/python3.10/dist-packages (0.29.1)\n",
            "Requirement already satisfied: numpy>=1.21.0 in /usr/local/lib/python3.10/dist-packages (from gymnasium[accept-rom-license,atari]) (1.25.2)\n",
            "Requirement already satisfied: cloudpickle>=1.2.0 in /usr/local/lib/python3.10/dist-packages (from gymnasium[accept-rom-license,atari]) (2.2.1)\n",
            "Requirement already satisfied: typing-extensions>=4.3.0 in /usr/local/lib/python3.10/dist-packages (from gymnasium[accept-rom-license,atari]) (4.12.2)\n",
            "Requirement already satisfied: farama-notifications>=0.0.1 in /usr/local/lib/python3.10/dist-packages (from gymnasium[accept-rom-license,atari]) (0.0.4)\n",
            "Collecting shimmy<1.0,>=0.1.0 (from shimmy[atari]<1.0,>=0.1.0; extra == \"atari\"->gymnasium[accept-rom-license,atari])\n",
            "  Downloading Shimmy-0.2.1-py3-none-any.whl.metadata (2.3 kB)\n",
            "Collecting autorom~=0.4.2 (from autorom[accept-rom-license]~=0.4.2; extra == \"accept-rom-license\"->gymnasium[accept-rom-license,atari])\n",
            "  Downloading AutoROM-0.4.2-py3-none-any.whl.metadata (2.8 kB)\n",
            "Requirement already satisfied: click in /usr/local/lib/python3.10/dist-packages (from autorom~=0.4.2->autorom[accept-rom-license]~=0.4.2; extra == \"accept-rom-license\"->gymnasium[accept-rom-license,atari]) (8.1.7)\n",
            "Requirement already satisfied: requests in /usr/local/lib/python3.10/dist-packages (from autorom~=0.4.2->autorom[accept-rom-license]~=0.4.2; extra == \"accept-rom-license\"->gymnasium[accept-rom-license,atari]) (2.31.0)\n",
            "Requirement already satisfied: tqdm in /usr/local/lib/python3.10/dist-packages (from autorom~=0.4.2->autorom[accept-rom-license]~=0.4.2; extra == \"accept-rom-license\"->gymnasium[accept-rom-license,atari]) (4.66.4)\n",
            "Collecting AutoROM.accept-rom-license (from autorom[accept-rom-license]~=0.4.2; extra == \"accept-rom-license\"->gymnasium[accept-rom-license,atari])\n",
            "  Downloading AutoROM.accept-rom-license-0.6.1.tar.gz (434 kB)\n",
            "\u001b[2K     \u001b[90m━━━━━━━━━━━━━━━━━━━━━━━━━━━━━━━━━━━━━━━━\u001b[0m \u001b[32m434.7/434.7 kB\u001b[0m \u001b[31m7.1 MB/s\u001b[0m eta \u001b[36m0:00:00\u001b[0m\n",
            "\u001b[?25h  Installing build dependencies ... \u001b[?25l\u001b[?25hdone\n",
            "  Getting requirements to build wheel ... \u001b[?25l\u001b[?25hdone\n",
            "  Preparing metadata (pyproject.toml) ... \u001b[?25l\u001b[?25hdone\n",
            "Collecting ale-py~=0.8.1 (from shimmy[atari]<1.0,>=0.1.0; extra == \"atari\"->gymnasium[accept-rom-license,atari])\n",
            "  Downloading ale_py-0.8.1-cp310-cp310-manylinux_2_17_x86_64.manylinux2014_x86_64.whl.metadata (8.1 kB)\n",
            "Requirement already satisfied: importlib-resources in /usr/local/lib/python3.10/dist-packages (from ale-py~=0.8.1->shimmy[atari]<1.0,>=0.1.0; extra == \"atari\"->gymnasium[accept-rom-license,atari]) (6.4.0)\n",
            "Requirement already satisfied: charset-normalizer<4,>=2 in /usr/local/lib/python3.10/dist-packages (from requests->autorom~=0.4.2->autorom[accept-rom-license]~=0.4.2; extra == \"accept-rom-license\"->gymnasium[accept-rom-license,atari]) (3.3.2)\n",
            "Requirement already satisfied: idna<4,>=2.5 in /usr/local/lib/python3.10/dist-packages (from requests->autorom~=0.4.2->autorom[accept-rom-license]~=0.4.2; extra == \"accept-rom-license\"->gymnasium[accept-rom-license,atari]) (3.7)\n",
            "Requirement already satisfied: urllib3<3,>=1.21.1 in /usr/local/lib/python3.10/dist-packages (from requests->autorom~=0.4.2->autorom[accept-rom-license]~=0.4.2; extra == \"accept-rom-license\"->gymnasium[accept-rom-license,atari]) (2.0.7)\n",
            "Requirement already satisfied: certifi>=2017.4.17 in /usr/local/lib/python3.10/dist-packages (from requests->autorom~=0.4.2->autorom[accept-rom-license]~=0.4.2; extra == \"accept-rom-license\"->gymnasium[accept-rom-license,atari]) (2024.7.4)\n",
            "Downloading AutoROM-0.4.2-py3-none-any.whl (16 kB)\n",
            "Downloading Shimmy-0.2.1-py3-none-any.whl (25 kB)\n",
            "Downloading ale_py-0.8.1-cp310-cp310-manylinux_2_17_x86_64.manylinux2014_x86_64.whl (1.7 MB)\n",
            "\u001b[2K   \u001b[90m━━━━━━━━━━━━━━━━━━━━━━━━━━━━━━━━━━━━━━━━\u001b[0m \u001b[32m1.7/1.7 MB\u001b[0m \u001b[31m40.5 MB/s\u001b[0m eta \u001b[36m0:00:00\u001b[0m\n",
            "\u001b[?25hBuilding wheels for collected packages: AutoROM.accept-rom-license\n",
            "  Building wheel for AutoROM.accept-rom-license (pyproject.toml) ... \u001b[?25l\u001b[?25hdone\n",
            "  Created wheel for AutoROM.accept-rom-license: filename=AutoROM.accept_rom_license-0.6.1-py3-none-any.whl size=446664 sha256=e8cd6b2d9ef1f75edc705072f9c45a1b7238685db747c24aa67c9f866f5e9c24\n",
            "  Stored in directory: /root/.cache/pip/wheels/6b/1b/ef/a43ff1a2f1736d5711faa1ba4c1f61be1131b8899e6a057811\n",
            "Successfully built AutoROM.accept-rom-license\n",
            "Installing collected packages: ale-py, shimmy, AutoROM.accept-rom-license, autorom\n",
            "Successfully installed AutoROM.accept-rom-license-0.6.1 ale-py-0.8.1 autorom-0.4.2 shimmy-0.2.1\n",
            "Reading package lists... Done\n",
            "Building dependency tree... Done\n",
            "Reading state information... Done\n",
            "The following additional packages will be installed:\n",
            "  swig4.0\n",
            "Suggested packages:\n",
            "  swig-doc swig-examples swig4.0-examples swig4.0-doc\n",
            "The following NEW packages will be installed:\n",
            "  swig swig4.0\n",
            "0 upgraded, 2 newly installed, 0 to remove and 45 not upgraded.\n",
            "Need to get 1,116 kB of archives.\n",
            "After this operation, 5,542 kB of additional disk space will be used.\n",
            "Get:1 http://archive.ubuntu.com/ubuntu jammy/universe amd64 swig4.0 amd64 4.0.2-1ubuntu1 [1,110 kB]\n",
            "Get:2 http://archive.ubuntu.com/ubuntu jammy/universe amd64 swig all 4.0.2-1ubuntu1 [5,632 B]\n",
            "Fetched 1,116 kB in 0s (3,146 kB/s)\n",
            "Selecting previously unselected package swig4.0.\n",
            "(Reading database ... 123589 files and directories currently installed.)\n",
            "Preparing to unpack .../swig4.0_4.0.2-1ubuntu1_amd64.deb ...\n",
            "Unpacking swig4.0 (4.0.2-1ubuntu1) ...\n",
            "Selecting previously unselected package swig.\n",
            "Preparing to unpack .../swig_4.0.2-1ubuntu1_all.deb ...\n",
            "Unpacking swig (4.0.2-1ubuntu1) ...\n",
            "Setting up swig4.0 (4.0.2-1ubuntu1) ...\n",
            "Setting up swig (4.0.2-1ubuntu1) ...\n",
            "Processing triggers for man-db (2.10.2-1) ...\n",
            "Requirement already satisfied: gymnasium[box2d] in /usr/local/lib/python3.10/dist-packages (0.29.1)\n",
            "Requirement already satisfied: numpy>=1.21.0 in /usr/local/lib/python3.10/dist-packages (from gymnasium[box2d]) (1.25.2)\n",
            "Requirement already satisfied: cloudpickle>=1.2.0 in /usr/local/lib/python3.10/dist-packages (from gymnasium[box2d]) (2.2.1)\n",
            "Requirement already satisfied: typing-extensions>=4.3.0 in /usr/local/lib/python3.10/dist-packages (from gymnasium[box2d]) (4.12.2)\n",
            "Requirement already satisfied: farama-notifications>=0.0.1 in /usr/local/lib/python3.10/dist-packages (from gymnasium[box2d]) (0.0.4)\n",
            "Collecting box2d-py==2.3.5 (from gymnasium[box2d])\n",
            "  Downloading box2d-py-2.3.5.tar.gz (374 kB)\n",
            "\u001b[2K     \u001b[90m━━━━━━━━━━━━━━━━━━━━━━━━━━━━━━━━━━━━━━━━\u001b[0m \u001b[32m374.4/374.4 kB\u001b[0m \u001b[31m6.9 MB/s\u001b[0m eta \u001b[36m0:00:00\u001b[0m\n",
            "\u001b[?25h  Preparing metadata (setup.py) ... \u001b[?25l\u001b[?25hdone\n",
            "Requirement already satisfied: pygame>=2.1.3 in /usr/local/lib/python3.10/dist-packages (from gymnasium[box2d]) (2.6.0)\n",
            "Collecting swig==4.* (from gymnasium[box2d])\n",
            "  Downloading swig-4.2.1-py2.py3-none-manylinux_2_5_x86_64.manylinux1_x86_64.whl.metadata (3.6 kB)\n",
            "Downloading swig-4.2.1-py2.py3-none-manylinux_2_5_x86_64.manylinux1_x86_64.whl (1.9 MB)\n",
            "\u001b[2K   \u001b[90m━━━━━━━━━━━━━━━━━━━━━━━━━━━━━━━━━━━━━━━━\u001b[0m \u001b[32m1.9/1.9 MB\u001b[0m \u001b[31m39.8 MB/s\u001b[0m eta \u001b[36m0:00:00\u001b[0m\n",
            "\u001b[?25hBuilding wheels for collected packages: box2d-py\n",
            "  Building wheel for box2d-py (setup.py) ... \u001b[?25l\u001b[?25hdone\n",
            "  Created wheel for box2d-py: filename=box2d_py-2.3.5-cp310-cp310-linux_x86_64.whl size=2349141 sha256=3349fe3dd2b3aa8cbbb77d7ed9d3185f454484db05d042080c12093eba847bac\n",
            "  Stored in directory: /root/.cache/pip/wheels/db/8f/6a/eaaadf056fba10a98d986f6dce954e6201ba3126926fc5ad9e\n",
            "Successfully built box2d-py\n",
            "Installing collected packages: swig, box2d-py\n",
            "Successfully installed box2d-py-2.3.5 swig-4.2.1\n"
          ]
        }
      ],
      "source": [
        "!pip install gymnasium\n",
        "!pip install \"gymnasium[atari, accept-rom-license]\"\n",
        "!apt-get install -y swig\n",
        "!pip install gymnasium[box2d]"
      ]
    },
    {
      "cell_type": "markdown",
      "metadata": {
        "id": "brqiMN3UW9T9"
      },
      "source": [
        "### Importing the libraries"
      ]
    },
    {
      "cell_type": "code",
      "execution_count": 2,
      "metadata": {
        "id": "mZaKXP_aMl9O"
      },
      "outputs": [],
      "source": [
        "import os\n",
        "import random\n",
        "import numpy as np\n",
        "import torch\n",
        "import torch.nn as nn\n",
        "import torch.optim as optim\n",
        "import torch.nn.functional as F\n",
        "import torch.autograd as autograd\n",
        "from torch.autograd import Variable\n",
        "from collections import deque, namedtuple"
      ]
    },
    {
      "cell_type": "markdown",
      "metadata": {
        "id": "EzlDKXvkXzGI"
      },
      "source": [
        "## Part 1 - Building the AI"
      ]
    },
    {
      "cell_type": "markdown",
      "metadata": {
        "id": "UtG6Zc83YYy3"
      },
      "source": [
        "### Creating the architecture of the Neural Network"
      ]
    },
    {
      "cell_type": "code",
      "source": [
        "class Network(nn.Module):\n",
        "\n",
        "  def __init__(self,state_size,action_size,seed=42):\n",
        "    super(Network, self).__init__()\n",
        "    self.seed = torch.manual_seed(seed)\n",
        "    self.fc1 = nn.Linear(state_size,64)\n",
        "    self.fc2 = nn.Linear(64,64)\n",
        "    self.fc3 = nn.Linear(64,action_size)\n",
        "\n",
        "  def forward(self,state):\n",
        "    x=self.fc1(state)\n",
        "    x=F.relu(x)\n",
        "    x=self.fc2(x)\n",
        "    x=F.relu(x)\n",
        "    return self.fc3(x)\n",
        "\n",
        "\n",
        "\n",
        ""
      ],
      "metadata": {
        "id": "Lo5pwkKmdYu0"
      },
      "execution_count": 3,
      "outputs": []
    },
    {
      "cell_type": "markdown",
      "metadata": {
        "id": "UxVrBnFWZKb1"
      },
      "source": [
        "## Part 2 - Training the AI"
      ]
    },
    {
      "cell_type": "markdown",
      "metadata": {
        "id": "T364fz9qZb2j"
      },
      "source": [
        "### Setting up the environment"
      ]
    },
    {
      "cell_type": "code",
      "source": [
        "import gymnasium as gym\n",
        "env = gym.make('LunarLander-v2')\n",
        "state_shape = env.observation_space.shape\n",
        "state_size = env.observation_space.shape[0]\n",
        "number_actions= env.action_space.n\n",
        "print('State shape: ', state_shape)\n",
        "print('State size: ', state_size)\n",
        "print('Number of actions: ', number_actions)"
      ],
      "metadata": {
        "colab": {
          "base_uri": "https://localhost:8080/"
        },
        "id": "Jq3ZarB9ikui",
        "outputId": "d40eb170-248c-425a-a501-f1c30757a46e"
      },
      "execution_count": 4,
      "outputs": [
        {
          "output_type": "stream",
          "name": "stdout",
          "text": [
            "State shape:  (8,)\n",
            "State size:  8\n",
            "Number of actions:  4\n"
          ]
        }
      ]
    },
    {
      "cell_type": "markdown",
      "metadata": {
        "id": "c_dZmOIvZgj-"
      },
      "source": [
        "### Initializing the hyperparameters"
      ]
    },
    {
      "cell_type": "code",
      "source": [
        "learning_rate = 5e-4\n",
        "minibatch_size = 100\n",
        "discount_factor = 0.99\n",
        "replay_buffer_size = int(1e5)\n",
        "interpolation_parameter = 1e-3"
      ],
      "metadata": {
        "id": "Vkvo8RWyj6jn"
      },
      "execution_count": 9,
      "outputs": []
    },
    {
      "cell_type": "markdown",
      "metadata": {
        "id": "8hD_Vs-bYnip"
      },
      "source": [
        "### Implementing Experience Replay"
      ]
    },
    {
      "cell_type": "code",
      "source": [
        "class ReplayMemory(object):\n",
        "\n",
        "  def __init__(self, capacity):\n",
        "    self.device = torch.device(\"cuda:0\" if torch.cuda.is_available() else \"cpu\")\n",
        "    self.capacity = capacity\n",
        "    self.memory = []\n",
        "\n",
        "  def push(self, event):\n",
        "    self.memory.append(event)\n",
        "    if len(self.memory) > self.capacity:\n",
        "      del self.memory[0]\n",
        "\n",
        "  def sample(self, batch_size):\n",
        "    experiences = random.sample(self.memory, k = batch_size)\n",
        "    states = torch.from_numpy(np.vstack([e[0] for e in experiences if e is not None])).float().to(self.device)\n",
        "    actions = torch.from_numpy(np.vstack([e[1] for e in experiences if e is not None])).long().to(self.device)\n",
        "    rewards = torch.from_numpy(np.vstack([e[2] for e in experiences if e is not None])).float().to(self.device)\n",
        "    next_states = torch.from_numpy(np.vstack([e[3] for e in experiences if e is not None])).float().to(self.device)\n",
        "    dones = torch.from_numpy(np.vstack([e[4] for e in experiences if e is not None]).astype(np.uint8)).float().to(self.device)\n",
        "    return states, next_states, actions, rewards, dones"
      ],
      "metadata": {
        "id": "SWdSn-0zlga4"
      },
      "execution_count": 10,
      "outputs": []
    },
    {
      "cell_type": "markdown",
      "metadata": {
        "id": "JmEkbFbUY6Jt"
      },
      "source": [
        "### Implementing the DQN class"
      ]
    },
    {
      "cell_type": "code",
      "source": [
        "class Agent():\n",
        "\n",
        "  def __init__(self, state_size, action_size):\n",
        "    self.device = torch.device(\"cuda:0\" if torch.cuda.is_available() else \"cpu\")\n",
        "    self.state_size = state_size\n",
        "    self.action_size = action_size\n",
        "    self.local_qnetwork = Network(state_size, action_size).to(self.device)\n",
        "    self.target_qnetwork = Network(state_size, action_size).to(self.device)\n",
        "    self.optimizer = optim.Adam(self.local_qnetwork.parameters(), lr = learning_rate)\n",
        "    self.memory = ReplayMemory(replay_buffer_size)\n",
        "    self.t_step = 0\n",
        "\n",
        "  def step(self, state, action, reward, next_state, done):\n",
        "    self.memory.push((state, action, reward, next_state, done))\n",
        "    self.t_step = (self.t_step + 1) % 4\n",
        "    if self.t_step == 0:\n",
        "      if len(self.memory.memory) > minibatch_size:\n",
        "        experiences = self.memory.sample(100)\n",
        "        self.learn(experiences, discount_factor)\n",
        "\n",
        "  def act(self, state, epsilon = 0.):\n",
        "    state = torch.from_numpy(state).float().unsqueeze(0).to(self.device)\n",
        "    self.local_qnetwork.eval()\n",
        "    with torch.no_grad():\n",
        "      action_values = self.local_qnetwork(state)\n",
        "    self.local_qnetwork.train()\n",
        "    if random.random() > epsilon:\n",
        "      return np.argmax(action_values.cpu().data.numpy())\n",
        "    else:\n",
        "      return random.choice(np.arange(self.action_size))\n",
        "\n",
        "  def learn(self, experiences, discount_factor):\n",
        "    states, next_states, actions, rewards, dones = experiences\n",
        "    next_q_targets = self.target_qnetwork(next_states).detach().max(1)[0].unsqueeze(1)\n",
        "    q_targets = rewards + discount_factor * next_q_targets * (1 - dones)\n",
        "    q_expected = self.local_qnetwork(states).gather(1, actions)\n",
        "    loss = F.mse_loss(q_expected, q_targets)\n",
        "    self.optimizer.zero_grad()\n",
        "    loss.backward()\n",
        "    self.optimizer.step()\n",
        "    self.soft_update(self.local_qnetwork, self.target_qnetwork, interpolation_parameter)\n",
        "\n",
        "  def soft_update(self, local_model, target_model, interpolation_parameter):\n",
        "    for target_param, local_param in zip(target_model.parameters(), local_model.parameters()):\n",
        "      target_param.data.copy_(interpolation_parameter * local_param.data + (1.0 - interpolation_parameter) * target_param.data)"
      ],
      "metadata": {
        "id": "5osNJXe8mhCj"
      },
      "execution_count": 11,
      "outputs": []
    },
    {
      "cell_type": "markdown",
      "metadata": {
        "id": "o1tZElccZmf6"
      },
      "source": [
        "### Initializing the DQN agent"
      ]
    },
    {
      "cell_type": "code",
      "source": [
        "agent = Agent(state_size, number_actions)"
      ],
      "metadata": {
        "id": "5rO05xUWmvpL"
      },
      "execution_count": 12,
      "outputs": []
    },
    {
      "cell_type": "markdown",
      "metadata": {
        "id": "E8v0PtUfaVQp"
      },
      "source": [
        "### Training the DQN agent"
      ]
    },
    {
      "cell_type": "code",
      "source": [
        "number_episodes = 2000\n",
        "maximum_number_timesteps_per_episode = 1000\n",
        "epsilon_starting_value  = 1.0\n",
        "epsilon_ending_value  = 0.01\n",
        "epsilon_decay_value  = 0.995\n",
        "epsilon = epsilon_starting_value\n",
        "scores_on_100_episodes = deque(maxlen = 100)\n",
        "\n",
        "for episode in range(1, number_episodes + 1):\n",
        "  state, _ = env.reset()\n",
        "  score = 0\n",
        "  for t in range(maximum_number_timesteps_per_episode):\n",
        "    action = agent.act(state, epsilon)\n",
        "    next_state, reward, done, _, _ = env.step(action)\n",
        "    agent.step(state, action, reward, next_state, done)\n",
        "    state = next_state\n",
        "    score += reward\n",
        "    if done:\n",
        "      break\n",
        "  scores_on_100_episodes.append(score)\n",
        "  epsilon = max(epsilon_ending_value, epsilon_decay_value * epsilon)\n",
        "  print('\\rEpisode {}\\tAverage Score: {:.2f}'.format(episode, np.mean(scores_on_100_episodes)), end = \"\")\n",
        "  if episode % 100 == 0:\n",
        "    print('\\rEpisode {}\\tAverage Score: {:.2f}'.format(episode, np.mean(scores_on_100_episodes)))\n",
        "  if np.mean(scores_on_100_episodes) >= 200.0:\n",
        "    print('\\nEnvironment solved in {:d} episodes!\\tAverage Score: {:.2f}'.format(episode - 100, np.mean(scores_on_100_episodes)))\n",
        "    torch.save(agent.local_qnetwork.state_dict(), 'checkpoint.pth')\n",
        "    break"
      ],
      "metadata": {
        "colab": {
          "base_uri": "https://localhost:8080/"
        },
        "id": "Jb1QuC1gnS29",
        "outputId": "8e6bbfdf-fb41-48d5-ca32-3ecf2837a0d1"
      },
      "execution_count": 13,
      "outputs": [
        {
          "output_type": "stream",
          "name": "stdout",
          "text": [
            "Episode 100\tAverage Score: -172.83\n",
            "Episode 200\tAverage Score: -84.41\n",
            "Episode 300\tAverage Score: -15.12\n",
            "Episode 400\tAverage Score: 95.19\n",
            "Episode 500\tAverage Score: 149.61\n",
            "Episode 600\tAverage Score: 156.68\n",
            "Episode 700\tAverage Score: 170.02\n",
            "Episode 727\tAverage Score: 201.06\n",
            "Environment solved in 627 episodes!\tAverage Score: 201.06\n"
          ]
        }
      ]
    },
    {
      "cell_type": "markdown",
      "metadata": {
        "id": "O8CNwdOTcCoP"
      },
      "source": [
        "## Part 3 - Visualizing the results"
      ]
    },
    {
      "cell_type": "code",
      "execution_count": 14,
      "metadata": {
        "id": "cb9nVvU2Okhk",
        "colab": {
          "base_uri": "https://localhost:8080/",
          "height": 459
        },
        "outputId": "1f0dc71c-291f-47a8-b981-d372bcc59429"
      },
      "outputs": [
        {
          "output_type": "stream",
          "name": "stderr",
          "text": [
            "WARNING:imageio_ffmpeg:IMAGEIO FFMPEG_WRITER WARNING: input image is not divisible by macro_block_size=16, resizing from (600, 400) to (608, 400) to ensure video compatibility with most codecs and players. To prevent resizing, make your input image divisible by the macro_block_size or set the macro_block_size to 1 (risking incompatibility).\n"
          ]
        },
        {
          "output_type": "display_data",
          "data": {
            "text/plain": [
              "<IPython.core.display.HTML object>"
            ],
            "text/html": [
              "<video alt=\"test\" autoplay\n",
              "                loop controls style=\"height: 400px;\">\n",
              "                <source src=\"data:video/mp4;base64,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\" type=\"video/mp4\" />\n",
              "             </video>"
            ]
          },
          "metadata": {}
        }
      ],
      "source": [
        "import glob\n",
        "import io\n",
        "import base64\n",
        "import imageio\n",
        "from IPython.display import HTML, display\n",
        "from gym.wrappers.monitoring.video_recorder import VideoRecorder\n",
        "\n",
        "def show_video_of_model(agent, env_name):\n",
        "    env = gym.make(env_name, render_mode='rgb_array')\n",
        "    state, _ = env.reset()\n",
        "    done = False\n",
        "    frames = []\n",
        "    while not done:\n",
        "        frame = env.render()\n",
        "        frames.append(frame)\n",
        "        action = agent.act(state)\n",
        "        state, reward, done, _, _ = env.step(action.item())\n",
        "    env.close()\n",
        "    imageio.mimsave('video.mp4', frames, fps=30)\n",
        "\n",
        "show_video_of_model(agent, 'LunarLander-v2')\n",
        "\n",
        "def show_video():\n",
        "    mp4list = glob.glob('*.mp4')\n",
        "    if len(mp4list) > 0:\n",
        "        mp4 = mp4list[0]\n",
        "        video = io.open(mp4, 'r+b').read()\n",
        "        encoded = base64.b64encode(video)\n",
        "        display(HTML(data='''<video alt=\"test\" autoplay\n",
        "                loop controls style=\"height: 400px;\">\n",
        "                <source src=\"data:video/mp4;base64,{0}\" type=\"video/mp4\" />\n",
        "             </video>'''.format(encoded.decode('ascii'))))\n",
        "    else:\n",
        "        print(\"Could not find video\")\n",
        "\n",
        "show_video()"
      ]
    },
    {
      "cell_type": "code",
      "source": [],
      "metadata": {
        "id": "VroLhgrFpeOI"
      },
      "execution_count": null,
      "outputs": []
    }
  ],
  "metadata": {
    "colab": {
      "provenance": [],
      "include_colab_link": true
    },
    "kernelspec": {
      "display_name": "Python 3",
      "name": "python3"
    },
    "language_info": {
      "name": "python"
    }
  },
  "nbformat": 4,
  "nbformat_minor": 0
}